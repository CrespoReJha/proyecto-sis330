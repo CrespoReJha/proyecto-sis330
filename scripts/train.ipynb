{
 "cells": [
  {
   "cell_type": "markdown",
   "id": "ae44ab25",
   "metadata": {},
   "source": [
    "# Importacion de librerias"
   ]
  },
  {
   "cell_type": "code",
   "execution_count": 1,
   "id": "8aaf62a8",
   "metadata": {},
   "outputs": [],
   "source": [
    "import os\n",
    "import torch\n",
    "import torch.nn as nn\n",
    "from torchvision import transforms, models\n",
    "from torch.utils.data import Dataset, DataLoader\n",
    "from PIL import Image\n",
    "import pandas as pd"
   ]
  },
  {
   "cell_type": "markdown",
   "id": "97dcefe5",
   "metadata": {},
   "source": [
    "# Definimos las constantes"
   ]
  },
  {
   "cell_type": "code",
   "execution_count": null,
   "id": "79255789",
   "metadata": {},
   "outputs": [],
   "source": [
    "NUM_CLASSES = 2\n",
    "CLIP_LENGTH = 32\n",
    "IMAGE_SIZE = 224\n",
    "BATCH_SIZE = 2\n",
    "EPOCHS = 20\n",
    "LEARNING_RATE = 0.0005\n",
    "DEVICE = torch.device(\"cuda\" if torch.cuda.is_available() else \"cpu\")"
   ]
  },
  {
   "cell_type": "markdown",
   "id": "28d8d7dc",
   "metadata": {},
   "source": [
    "# Definimos the custom dataset"
   ]
  },
  {
   "cell_type": "code",
   "execution_count": null,
   "id": "68561ebc",
   "metadata": {},
   "outputs": [],
   "source": [
    "class VideoClipDataset(Dataset):\n",
    "    def __init__(self, csv_path, transform=None):\n",
    "        self.data = pd.read_csv(csv_path, sep=' ', header=None)\n",
    "        self.transform = transform\n",
    "\n",
    "    def __len__(self):\n",
    "        return len(self.data)\n",
    "\n",
    "    def __getitem__(self, idx):\n",
    "        clip_id, label, clip_path = self.data.iloc[idx]\n",
    "        label = int(label)\n",
    "\n",
    "        frames = sorted(os.listdir(clip_path))[:CLIP_LENGTH]\n",
    "        clip = []\n",
    "\n",
    "        for frame_file in frames:\n",
    "            img_path = os.path.join(clip_path, frame_file)\n",
    "            image = Image.open(img_path).convert('RGB')\n",
    "            if self.transform:\n",
    "                image = self.transform(image)\n",
    "            clip.append(image)\n",
    "\n",
    "        clip = torch.stack(clip, dim=0)  # (T, C, H, W)\n",
    "        return clip, label"
   ]
  },
  {
   "cell_type": "markdown",
   "id": "28c5e8fa",
   "metadata": {},
   "source": [
    "# Define the custom model"
   ]
  },
  {
   "cell_type": "code",
   "execution_count": null,
   "id": "011f6ab4",
   "metadata": {},
   "outputs": [],
   "source": [
    "class CNN_LSTM(nn.Module):\n",
    "    def __init__(self, hidden_dim=512, num_layers=1, num_classes=2):\n",
    "        super(CNN_LSTM, self).__init__()\n",
    "        base_model = models.mobilenet_v2(pretrained=True)\n",
    "        self.cnn = base_model.features\n",
    "        self.pool = nn.AdaptiveAvgPool2d((1, 1))\n",
    "        self.feature_dim = 1280\n",
    "\n",
    "        self.lstm = nn.LSTM(input_size=self.feature_dim,\n",
    "                            hidden_size=hidden_dim,\n",
    "                            num_layers=num_layers,\n",
    "                            batch_first=True)\n",
    "        self.fc = nn.Linear(hidden_dim, num_classes)\n",
    "\n",
    "    def forward(self, x):\n",
    "        B, T, C, H, W = x.shape\n",
    "        x = x.view(B * T, C, H, W)\n",
    "        with torch.no_grad():\n",
    "            features = self.cnn(x)\n",
    "            features = self.pool(features).view(B, T, -1)  # (B, T, 1280)\n",
    "\n",
    "        output, _ = self.lstm(features)  # (B, T, hidden)\n",
    "        final_output = output[:, -1, :]  # último paso\n",
    "        logits = self.fc(final_output)\n",
    "        return logits"
   ]
  },
  {
   "cell_type": "markdown",
   "id": "af80803d",
   "metadata": {},
   "source": [
    "# Cargamos el dataset"
   ]
  },
  {
   "cell_type": "code",
   "execution_count": 10,
   "id": "191b9fde",
   "metadata": {},
   "outputs": [
    {
     "name": "stderr",
     "output_type": "stream",
     "text": [
      "/home/jhamilcr/Documents/proyecto-sis330/env/lib/python3.12/site-packages/torchvision/models/_utils.py:208: UserWarning: The parameter 'pretrained' is deprecated since 0.13 and may be removed in the future, please use 'weights' instead.\n",
      "  warnings.warn(\n",
      "/home/jhamilcr/Documents/proyecto-sis330/env/lib/python3.12/site-packages/torchvision/models/_utils.py:223: UserWarning: Arguments other than a weight enum or `None` for 'weights' are deprecated since 0.13 and may be removed in the future. The current behavior is equivalent to passing `weights=MobileNet_V2_Weights.IMAGENET1K_V1`. You can also use `weights=MobileNet_V2_Weights.DEFAULT` to get the most up-to-date weights.\n",
      "  warnings.warn(msg)\n"
     ]
    }
   ],
   "source": [
    "# === TRANSFORMS ===\n",
    "transform = transforms.Compose([\n",
    "    transforms.Resize((IMAGE_SIZE, IMAGE_SIZE)),\n",
    "    transforms.ToTensor()\n",
    "])\n",
    "\n",
    "# === CARGA DE DATOS ===\n",
    "train_dataset = VideoClipDataset('../train.csv', transform)\n",
    "val_dataset = VideoClipDataset('../val.csv', transform)\n",
    "\n",
    "train_loader = DataLoader(train_dataset, batch_size=BATCH_SIZE, shuffle=True)\n",
    "val_loader = DataLoader(val_dataset, batch_size=BATCH_SIZE)\n",
    "\n",
    "# === ENTRENAMIENTO ===\n",
    "model = CNN_LSTM(num_classes=NUM_CLASSES).to(DEVICE)\n",
    "criterion = nn.CrossEntropyLoss()\n",
    "optimizer = torch.optim.Adam(model.parameters(), lr=LEARNING_RATE)"
   ]
  },
  {
   "cell_type": "markdown",
   "id": "098b52a9",
   "metadata": {},
   "source": [
    "# Entrenamiento"
   ]
  },
  {
   "cell_type": "code",
   "execution_count": 11,
   "id": "eb53bab1",
   "metadata": {},
   "outputs": [
    {
     "name": "stdout",
     "output_type": "stream",
     "text": [
      "[Epoch 1] Loss: 29.4742, Accuracy: 58.75%\n",
      "[Epoch 2] Loss: 27.7487, Accuracy: 53.75%\n",
      "[Epoch 3] Loss: 27.2989, Accuracy: 58.75%\n",
      "[Epoch 4] Loss: 25.3065, Accuracy: 67.50%\n",
      "[Epoch 5] Loss: 23.8218, Accuracy: 70.00%\n",
      "[Epoch 6] Loss: 22.0121, Accuracy: 68.75%\n",
      "[Epoch 7] Loss: 19.0983, Accuracy: 73.75%\n",
      "[Epoch 8] Loss: 18.1838, Accuracy: 77.50%\n",
      "[Epoch 9] Loss: 11.6780, Accuracy: 90.00%\n",
      "[Epoch 10] Loss: 7.8002, Accuracy: 97.50%\n",
      "[Epoch 11] Loss: 4.6765, Accuracy: 97.50%\n",
      "[Epoch 12] Loss: 1.7991, Accuracy: 100.00%\n",
      "[Epoch 13] Loss: 0.7615, Accuracy: 100.00%\n",
      "[Epoch 14] Loss: 0.4439, Accuracy: 100.00%\n",
      "[Epoch 15] Loss: 0.2929, Accuracy: 100.00%\n",
      "[Epoch 16] Loss: 0.1856, Accuracy: 100.00%\n",
      "[Epoch 17] Loss: 0.1259, Accuracy: 100.00%\n",
      "[Epoch 18] Loss: 0.0730, Accuracy: 100.00%\n",
      "[Epoch 19] Loss: 0.0424, Accuracy: 100.00%\n",
      "[Epoch 20] Loss: 0.0370, Accuracy: 100.00%\n",
      "✅ Modelo entrenado y guardado.\n"
     ]
    }
   ],
   "source": [
    "for epoch in range(EPOCHS):\n",
    "    model.train()\n",
    "    total_loss, correct, total = 0, 0, 0\n",
    "    for clips, labels in train_loader:\n",
    "        clips, labels = clips.to(DEVICE), labels.to(DEVICE)\n",
    "        outputs = model(clips)\n",
    "        loss = criterion(outputs, labels)\n",
    "\n",
    "        optimizer.zero_grad()\n",
    "        loss.backward()\n",
    "        optimizer.step()\n",
    "\n",
    "        total_loss += loss.item()\n",
    "        _, preds = torch.max(outputs, 1)\n",
    "        correct += (preds == labels).sum().item()\n",
    "        total += labels.size(0)\n",
    "\n",
    "    acc = correct / total\n",
    "    print(f\"[Epoch {epoch+1}] Loss: {total_loss:.4f}, Accuracy: {acc:.2%}\")\n",
    "\n",
    "# === GUARDAR MODELO ===\n",
    "torch.save(model.state_dict(), 'cnn_lstm_supermercado.pth')\n",
    "print(\"✅ Modelo entrenado y guardado.\")\n"
   ]
  }
 ],
 "metadata": {
  "kernelspec": {
   "display_name": "env",
   "language": "python",
   "name": "python3"
  },
  "language_info": {
   "codemirror_mode": {
    "name": "ipython",
    "version": 3
   },
   "file_extension": ".py",
   "mimetype": "text/x-python",
   "name": "python",
   "nbconvert_exporter": "python",
   "pygments_lexer": "ipython3",
   "version": "3.12.3"
  }
 },
 "nbformat": 4,
 "nbformat_minor": 5
}
