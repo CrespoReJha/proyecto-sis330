{
 "cells": [
  {
   "cell_type": "code",
   "execution_count": 1,
   "id": "72c17b30",
   "metadata": {},
   "outputs": [
    {
     "name": "stderr",
     "output_type": "stream",
     "text": [
      "/home/jhamilcr/Documents/proyecto-sis330/env/lib/python3.12/site-packages/torchvision/models/_utils.py:208: UserWarning: The parameter 'pretrained' is deprecated since 0.13 and may be removed in the future, please use 'weights' instead.\n",
      "  warnings.warn(\n",
      "/home/jhamilcr/Documents/proyecto-sis330/env/lib/python3.12/site-packages/torchvision/models/_utils.py:223: UserWarning: Arguments other than a weight enum or `None` for 'weights' are deprecated since 0.13 and may be removed in the future. The current behavior is equivalent to passing `weights=MobileNet_V2_Weights.IMAGENET1K_V1`. You can also use `weights=MobileNet_V2_Weights.DEFAULT` to get the most up-to-date weights.\n",
      "  warnings.warn(msg)\n"
     ]
    },
    {
     "name": "stdout",
     "output_type": "stream",
     "text": [
      "🧠 Predicción: entrada — Probabilidades: [[9.9975425e-01 2.4575321e-04]]\n"
     ]
    }
   ],
   "source": [
    "import os\n",
    "import torch\n",
    "import torch.nn as nn\n",
    "from torchvision import transforms, models\n",
    "from PIL import Image\n",
    "import sys\n",
    "\n",
    "# === CONFIG ===\n",
    "CLIP_LENGTH = 32  # O 16 si usaste menos frames en entrenamiento\n",
    "IMAGE_SIZE = 224  # Debe coincidir con el entrenamiento\n",
    "NUM_CLASSES = 2\n",
    "CLASS_NAMES = ['entrada', 'salida']\n",
    "DEVICE = torch.device(\"cuda\" if torch.cuda.is_available() else \"cpu\")\n",
    "\n",
    "# === TRANSFORMACIÓN ===\n",
    "transform = transforms.Compose([\n",
    "    transforms.Resize((IMAGE_SIZE, IMAGE_SIZE)),\n",
    "    transforms.ToTensor()\n",
    "])\n",
    "\n",
    "# === MODELO ===\n",
    "class CNN_LSTM(nn.Module):\n",
    "    def __init__(self, hidden_dim=512, num_layers=1, num_classes=2):\n",
    "        super(CNN_LSTM, self).__init__()\n",
    "        base_model = models.mobilenet_v2(pretrained=True)\n",
    "        self.cnn = base_model.features\n",
    "        self.pool = nn.AdaptiveAvgPool2d((1, 1))\n",
    "        self.feature_dim = 1280\n",
    "\n",
    "        for param in self.cnn.parameters():  # congelar el CNN\n",
    "            param.requires_grad = False\n",
    "\n",
    "        self.lstm = nn.LSTM(input_size=self.feature_dim,\n",
    "                            hidden_size=hidden_dim,\n",
    "                            num_layers=num_layers,\n",
    "                            batch_first=True)\n",
    "        self.fc = nn.Linear(hidden_dim, num_classes)\n",
    "\n",
    "    def forward(self, x):\n",
    "        B, T, C, H, W = x.shape\n",
    "        x = x.view(B * T, C, H, W)\n",
    "        with torch.no_grad():\n",
    "            features = self.cnn(x)\n",
    "            features = self.pool(features).view(B, T, -1)\n",
    "        output, _ = self.lstm(features)\n",
    "        final_output = output[:, -1, :]\n",
    "        logits = self.fc(final_output)\n",
    "        return logits\n",
    "\n",
    "# === FUNCIÓN DE INFERENCIA ===\n",
    "def inferir_clip(clip_path, model):\n",
    "    frames = sorted(os.listdir(clip_path))[:CLIP_LENGTH]\n",
    "    clip = []\n",
    "\n",
    "    for frame_name in frames:\n",
    "        img_path = os.path.join(clip_path, frame_name)\n",
    "        image = Image.open(img_path).convert('RGB')\n",
    "        image = transform(image)\n",
    "        clip.append(image)\n",
    "\n",
    "    clip_tensor = torch.stack(clip, dim=0).unsqueeze(0).to(DEVICE)  # (1, T, C, H, W)\n",
    "\n",
    "    model.eval()\n",
    "    with torch.no_grad():\n",
    "        logits = model(clip_tensor)\n",
    "        probs = torch.softmax(logits, dim=1)\n",
    "        predicted = torch.argmax(probs, dim=1).item()\n",
    "\n",
    "    return CLASS_NAMES[predicted], probs.cpu().numpy()\n",
    "\n",
    "# === EJECUCIÓN ===\n",
    "if __name__ == \"__main__\":\n",
    "    # Cambia este path por la carpeta de tu clip de prueba\n",
    "    clip_test_path = '../dataset/entrada/entrada_001'  # ejemplo\n",
    "\n",
    "    model = CNN_LSTM(num_classes=NUM_CLASSES).to(DEVICE)\n",
    "    model.load_state_dict(torch.load('cnn_lstm_supermercado.pth', map_location=DEVICE))\n",
    "\n",
    "    clase, probs = inferir_clip(clip_test_path, model)\n",
    "    print(f\"🧠 Predicción: {clase} — Probabilidades: {probs}\")\n"
   ]
  }
 ],
 "metadata": {
  "kernelspec": {
   "display_name": "env",
   "language": "python",
   "name": "python3"
  },
  "language_info": {
   "codemirror_mode": {
    "name": "ipython",
    "version": 3
   },
   "file_extension": ".py",
   "mimetype": "text/x-python",
   "name": "python",
   "nbconvert_exporter": "python",
   "pygments_lexer": "ipython3",
   "version": "3.12.3"
  }
 },
 "nbformat": 4,
 "nbformat_minor": 5
}
