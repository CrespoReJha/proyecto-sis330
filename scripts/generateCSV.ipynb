{
 "cells": [
  {
   "cell_type": "code",
   "execution_count": 1,
   "id": "6bc1520e",
   "metadata": {},
   "outputs": [
    {
     "name": "stdout",
     "output_type": "stream",
     "text": [
      "✅ Generado: ../train.csv, ../val.csv, ../label_map.txt\n",
      "Entrenamiento: 80 clips | Validación: 21 clips\n"
     ]
    }
   ],
   "source": [
    "import os\n",
    "import csv\n",
    "import random\n",
    "from pathlib import Path\n",
    "\n",
    "DATASET_PATH = '../dataset'\n",
    "TRAIN_CSV = '../train.csv'\n",
    "VAL_CSV = '../val.csv'\n",
    "LABEL_MAP = '../label_map.txt'\n",
    "SPLIT_RATIO = 0.8  # 80% train, 20% val\n",
    "\n",
    "def generar_archivos_csv_y_labelmap():\n",
    "    clases = sorted([d.name for d in Path(DATASET_PATH).iterdir() if d.is_dir()])\n",
    "    label_map = {cls: idx for idx, cls in enumerate(clases)}\n",
    "    \n",
    "    # Guardar label_map.txt\n",
    "    with open(LABEL_MAP, 'w') as f:\n",
    "        for cls, idx in label_map.items():\n",
    "            f.write(f\"{cls} {idx}\\n\")\n",
    "\n",
    "    # Recolectar clips\n",
    "    clips = []\n",
    "    for cls in clases:\n",
    "        clase_path = Path(DATASET_PATH) / cls\n",
    "        for clip_dir in clase_path.iterdir():\n",
    "            if clip_dir.is_dir():\n",
    "                clip_id = clip_dir.name\n",
    "                label = label_map[cls]\n",
    "                clips.append((clip_id, label, str(clip_dir)))\n",
    "\n",
    "    random.shuffle(clips)\n",
    "\n",
    "    split_idx = int(len(clips) * SPLIT_RATIO)\n",
    "    train_clips = clips[:split_idx]\n",
    "    val_clips = clips[split_idx:]\n",
    "\n",
    "    # Guardar train.csv\n",
    "    with open(TRAIN_CSV, 'w', newline='') as f:\n",
    "        writer = csv.writer(f, delimiter=' ')\n",
    "        for row in train_clips:\n",
    "            writer.writerow(row)\n",
    "\n",
    "    # Guardar val.csv\n",
    "    with open(VAL_CSV, 'w', newline='') as f:\n",
    "        writer = csv.writer(f, delimiter=' ')\n",
    "        for row in val_clips:\n",
    "            writer.writerow(row)\n",
    "\n",
    "    print(f\"✅ Generado: {TRAIN_CSV}, {VAL_CSV}, {LABEL_MAP}\")\n",
    "    print(f\"Entrenamiento: {len(train_clips)} clips | Validación: {len(val_clips)} clips\")\n",
    "\n",
    "if __name__ == \"__main__\":\n",
    "    generar_archivos_csv_y_labelmap()\n"
   ]
  }
 ],
 "metadata": {
  "kernelspec": {
   "display_name": "env",
   "language": "python",
   "name": "python3"
  },
  "language_info": {
   "codemirror_mode": {
    "name": "ipython",
    "version": 3
   },
   "file_extension": ".py",
   "mimetype": "text/x-python",
   "name": "python",
   "nbconvert_exporter": "python",
   "pygments_lexer": "ipython3",
   "version": "3.12.3"
  }
 },
 "nbformat": 4,
 "nbformat_minor": 5
}
